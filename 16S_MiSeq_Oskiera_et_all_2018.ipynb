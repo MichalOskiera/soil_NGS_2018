{
 "cells": [
  {
   "cell_type": "markdown",
   "metadata": {},
   "source": [
    "# 16S profiling analysis pipeline (Illumina paired-end) acc brmicrobiome with MO modifications"
   ]
  },
  {
   "cell_type": "markdown",
   "metadata": {},
   "source": [
    "**BMP** advisory board recommend the use of this pipeline as a standard for 16S rRNA data analysis.  \n",
    "We are now working in order to improve this workflow besides making it easier for end-users.   \n",
    "If you have any questions or suggestions, please contact  \n",
    "  \n",
    "**Victor Pylro**: victor.pylro@brmicrobiome.org, Leandro Lemos: lemosbioinfo@gmail.com or Luiz Roesch: luiz.roesch@brmicrobiome.org\n",
    "  \n",
    "Please, cite our efforts when using this pipeline: Data analysis for 16S microbial profiling from different benchtop sequencing platforms. J Microbiol Methods. 2014. doi: 10.1016/j.mimet.2014.08.018.  \n",
    "  \n",
    "  \n",
    "The authors are grateful to Dr Victor Pylro for the advice in modification of original vsearch 16S (Illumina paired-end) bmp pipeline.  \n",
    "  \n",
    "Sequences in this pipeline are without barcodes - already demultiplexed to the samples (separate folders with sample name). For that reason Steps 1. - 5. of this pipeline are different from bmp, but the same as ITS pipeline acc Balint et al 2014 modified by Oskiera et al 2018.  \n",
    "  \n",
    "Please, cite our efforts when using this pipeline: Ballint et al 2014 \"An Illumina metabarcoding pipeline for fungi. Ecology and Evolution 4 (13) 2642–2653. DOI: 10.1002/ece3.1107  \n",
    "  \n",
    "**Please cite also: Oskiera et al. 2018**"
   ]
  },
  {
   "cell_type": "markdown",
   "metadata": {},
   "source": [
    "## Steps 1. - 5. acc Balint  et al \n",
    "  \n",
    "## 1. Quality filtering\n",
    "**FILTER PARAMETERS: -sc 33 -q 20 -l 100 -ld N**\n",
    "  \n",
    "```perl Reads_Quality_Length_distribution.pl -fw forw_reads.fastq -rw rev_reads.fastq -sc 33 -q 20 -l 100 -ld N  ```  "
   ]
  },
  {
   "cell_type": "code",
   "execution_count": null,
   "metadata": {
    "scrolled": true
   },
   "outputs": [],
   "source": [
    "%%bash\n",
    "for d in ./data/*\n",
    "do\n",
    "    ( cd $d && perl ../../bin/Reads_Quality_Length_distribution.pl -fw ./*_R1.fastq -rw ./*_R2.fastq -sc 33 -q 20 -l 100 -ld N )\n",
    "done"
   ]
  },
  {
   "cell_type": "markdown",
   "metadata": {},
   "source": [
    "## 2. Paired-end assembly acc Balint et all with MO modification (PEAR)  \n",
    "  \n",
    "  \n",
    "```pear -f Filtered_*_R1.fastq -r Filtered_*_R2.fastq -m 400 -n 50 -v 25 -o pear_paired_assembled.fastq```\n",
    "  \n",
    "**PEAR settings:**   \n",
    "Maximum assembly length............: 400  \n",
    "Minimum assembly length............: 50  \n",
    "Minimum overlap....................: 25   "
   ]
  },
  {
   "cell_type": "code",
   "execution_count": null,
   "metadata": {
    "scrolled": true
   },
   "outputs": [],
   "source": [
    "%%bash\n",
    "for d in ./data/*\n",
    "do\n",
    "    ( cd $d && mkdir ./pear && pear -f Filtered_*_R1.fastq -r Filtered_*_R2.fastq -m 400 -n 50 -v 25 -o ./pear/paired_assembled.fastq )\n",
    "done"
   ]
  },
  {
   "cell_type": "markdown",
   "metadata": {},
   "source": [
    "## 3. Remove primer artifacts  \n",
    "**Run code:**  \n",
    "  \n",
    "```python remove_multiprimer.py -i input.fastq -o output.fastq -f '<'forPrimerSeq'>' -r '<'revPrimerSeq'>'  ```\n",
    "  \n",
    "**```python remove_multiprimer.py```**  \n",
    "-i pear_paired_assembled.fastq.assembled.fastq  \n",
    "-o pear_paired_assembled_output_multiprimer.fastq  \n",
    "Primers:  \n",
    "-f GTGYCAGCMGCCGCGGTAA = GTG[CT]CAGC[AC]GCCGCGGTAA   \n",
    "-r GGACTACNVGGGTWTCTAAT = GGACTAC[ACGT][ACG]GGGT[AT]TCTAAT  "
   ]
  },
  {
   "cell_type": "code",
   "execution_count": null,
   "metadata": {},
   "outputs": [],
   "source": [
    "%%bash\n",
    "for d in ./data/*\n",
    "do\n",
    "    ( cd $d && python2 ../../bin/remove_multiprimer.py -i ./pear/paired_assembled.fastq.assembled.fastq -o ./pear/paired_assembled_output_multiprimer.fastq -f GTG[CT]CAGC[AC]GCCGCGGTAA -r GGACTAC[ACGT][ACG]GGGT[AT]TCTAAT )\n",
    "done"
   ]
  },
  {
   "cell_type": "markdown",
   "metadata": {},
   "source": [
    "## 4. Reorient reads to 5'-3'  \n",
    "**Run code:**  \n",
    "  \n",
    "  \n",
    "```fqgrep -m2 -p GTG[CT]CAGC[AC]GCCGCGGTAA -e pear_paired_assembled_output_multiprimer.fastq > good_5-3.fastq```  \n",
    "  \n",
    "  \n",
    "```fqgrep -m2 -p GGACTAC[ACGT][ACG]GGGT[AT]TCTAAT -e pear_paired_assembled_output_multiprimer.fastq > good_3-5.fastq```  "
   ]
  },
  {
   "cell_type": "code",
   "execution_count": null,
   "metadata": {},
   "outputs": [],
   "source": [
    "%%bash\n",
    "for d in ./data/*\n",
    "do\n",
    "    ( cd $d && fqgrep -m 2 -p GTG[CT]CAGC[AC]GCCGCGGTAA -e ./pear/paired_assembled_output_multiprimer.fastq > ./pear/good_5-3.fastq )\n",
    "done"
   ]
  },
  {
   "cell_type": "code",
   "execution_count": null,
   "metadata": {},
   "outputs": [],
   "source": [
    "%%bash\n",
    "for d in ./data/*\n",
    "do\n",
    "    ( cd $d && fqgrep -m 2 -p ATTAGA[AT]ACCC[CGT][AGT]GTAGTCC -e ./pear/paired_assembled_output_multiprimer.fastq > ./pear/good_3-5.fastq )\n",
    "done"
   ]
  },
  {
   "cell_type": "code",
   "execution_count": null,
   "metadata": {},
   "outputs": [],
   "source": [
    "%%bash\n",
    "for d in ./data/*\n",
    "do\n",
    "    ( cd $d && fastx_reverse_complement -Q 33 -i ./pear/good_3-5.fastq >> ./pear/good_5-3.fastq )\n",
    "done"
   ]
  },
  {
   "cell_type": "markdown",
   "metadata": {},
   "source": [
    "## 5. Demultiplexing\n",
    "  \n",
    "**Run code:**  \n",
    "  \n",
    "```bash demultiplex.sh forward_labels.csv reverse_labels.csv 5-3_oriented.fastq```"
   ]
  },
  {
   "cell_type": "code",
   "execution_count": null,
   "metadata": {},
   "outputs": [],
   "source": [
    "%%bash\n",
    "for d in ./data/*\n",
    "do\n",
    "    ( cd $d && bash ../../bin/demultiplex.sh ../../bin/forward_labels.csv ../../bin/reverse_labels.csv ./pear/good_5-3.fastq )\n",
    "done"
   ]
  },
  {
   "cell_type": "markdown",
   "metadata": {},
   "source": [
    "## Steps from 6. to the end of this pipeline acc 16S profiling analysis pipeline (Illumina paired-end) - BMP advisory. \n",
    "\n",
    "## 6. Quality filtering, length truncate, and convert to FASTA  ```<<<USING VSEARCH>>>```\n",
    "  \n",
    "```vsearch --fastx_filter $PWD/slout/seqs.fastq --fastq_maxee 1.0 --fastq_trunclen 240 --fastaout reads.fa```  \n",
    "  \n",
    "The -fastq_trunclen parameter must be adjusted as your needs. You can change  \n",
    "  ** ```-fastq_maxee``` **   \n",
    "  \n",
    "parameter if you want. I recommend to keep it as **```1.0```**.  "
   ]
  },
  {
   "cell_type": "code",
   "execution_count": null,
   "metadata": {},
   "outputs": [],
   "source": [
    "%%bash\n",
    "for d in ./data/*\n",
    "do\n",
    "    ( cd $d && vsearch --fastx_filter ./pear/good_5-3.fastq --fastq_maxee 1.0 --fastq_trunclen 240 -fastaout ./pear/reads.fasta )\n",
    "done"
   ]
  },
  {
   "cell_type": "markdown",
   "metadata": {},
   "source": [
    "## 7. Modification acc Dr. Victor Pylro Brazilian Microbiome Project  \n",
    "  \n",
    "http://brmicrobiome.org  \n",
    "victor.pyro@brmicrobiome.org  \n",
    "\"We need to change the header of your reads to make them compatible with UPARSE pipeline. For this, we wrote a script  \n",
    "\n",
    "** ```bmp_demultiplexed``` ** - ```./bin/bmp_demultiplexed.pl```  \n",
    "  \n",
    "Basically, it changes your headers to  \n",
    "  \n",
    " ```  \n",
    "\">Samplename_X;barcodelabel=Samplename”\n",
    "```   \""
   ]
  },
  {
   "cell_type": "code",
   "execution_count": null,
   "metadata": {
    "scrolled": true
   },
   "outputs": [],
   "source": [
    "%%bash\n",
    "for d in ./data/*\n",
    "do\n",
    "       ( cd $d && CURRENT=`pwd` && BASENAME=`basename \"$CURRENT\"` && echo \"$BASENAME\" && perl ../../bin/bmp_demultiplexed.pl -i ./pear/reads.fasta -o ./demultiplexed.fasta -b \"$BASENAME\" ) \n",
    "done"
   ]
  },
  {
   "cell_type": "markdown",
   "metadata": {},
   "source": [
    "## 8. Dereplication ```<<<USING VSEARCH>>>```  \n",
    "  \n",
    "``` vsearch --derep_fulllength $PWD/reads_uparse.fa --output derep.fa --sizeout```  "
   ]
  },
  {
   "cell_type": "code",
   "execution_count": null,
   "metadata": {},
   "outputs": [],
   "source": [
    "%%bash\n",
    "for d in ./data/*\n",
    "do\n",
    "    ( cd $d && vsearch \\\n",
    "    --derep_fulllength ./demultiplexed.fasta \\\n",
    "    --sizeout \\\n",
    "    --fasta_width 0 \\\n",
    "    --output ./dereplicated.fasta )\n",
    "done"
   ]
  },
  {
   "cell_type": "markdown",
   "metadata": {},
   "source": [
    "## 9. Merge all resulting files using a **```“cat”``` command**.   "
   ]
  },
  {
   "cell_type": "code",
   "execution_count": null,
   "metadata": {},
   "outputs": [],
   "source": [
    "%%bash\n",
    "for d in ./data/*\n",
    "do\n",
    "    ( cd $d && cat ./dereplicated.fasta >> ../../all_samples.fasta )\n",
    "done"
   ]
  },
  {
   "cell_type": "markdown",
   "metadata": {},
   "source": [
    "## 10. Abundance sort and discard singletons ```<<<USING VSEARCH>>>```    \n",
    "  \n",
    "```vsearch --sortbysize $PWD/derep.fa --output sorted.fa --minsize 2```  "
   ]
  },
  {
   "cell_type": "code",
   "execution_count": null,
   "metadata": {
    "scrolled": true
   },
   "outputs": [],
   "source": [
    "!vsearch \\\n",
    "    --sortbysize ./all_samples.fasta \\\n",
    "    --minsize 2 \\\n",
    "    --output ./sorted.fasta"
   ]
  },
  {
   "cell_type": "markdown",
   "metadata": {},
   "source": [
    "  \n",
    "## 11. OTU clustering using UPARSE method ```<<<USING VSEARCH>>>```  \n",
    "  \n",
    "```vsearch --cluster_size $PWD/sorted.fa --consout otus1.fa --id 0.97```"
   ]
  },
  {
   "cell_type": "code",
   "execution_count": null,
   "metadata": {
    "scrolled": false
   },
   "outputs": [],
   "source": [
    "! ./bin/vsearch --cluster_size ./sorted.fasta --consout ./otus97.fasta --id 0.97"
   ]
  },
  {
   "cell_type": "code",
   "execution_count": null,
   "metadata": {},
   "outputs": [],
   "source": [
    "! ./bin/vsearch --cluster_size ./sorted.fasta --consout ./otus99.fasta --id 0.99"
   ]
  },
  {
   "cell_type": "markdown",
   "metadata": {},
   "source": [
    "## 12. Fasta Formatter ```<<<FASTX TOOLKIT SCRIPT>>>```  \n",
    "  \n",
    "```fasta_formatter -i otus1.fa -o formated_otus1.fa```"
   ]
  },
  {
   "cell_type": "code",
   "execution_count": null,
   "metadata": {},
   "outputs": [],
   "source": [
    "!fasta_formatter -i ./otus97.fasta -o ./formated_otus97.fasta"
   ]
  },
  {
   "cell_type": "code",
   "execution_count": null,
   "metadata": {},
   "outputs": [],
   "source": [
    "!fasta_formatter -i ./otus99.fasta -o ./formated_otus99.fasta"
   ]
  },
  {
   "cell_type": "markdown",
   "metadata": {},
   "source": [
    "## 13. Renamer ```<<<BMP SCRIPT>>>```  \n",
    "  \n",
    "```perl bmp-otuName.pl -i formated_otus1.fa -o otus.fa```  "
   ]
  },
  {
   "cell_type": "code",
   "execution_count": null,
   "metadata": {},
   "outputs": [],
   "source": [
    "!perl ./bin/bmp-otuName.pl -i ./formated_otus97.fasta -o ./otus.fasta"
   ]
  },
  {
   "cell_type": "code",
   "execution_count": null,
   "metadata": {},
   "outputs": [],
   "source": [
    "!perl ./bin/bmp-otuName.pl -i ./formated_otus99.fasta -o ./otus99.fasta"
   ]
  },
  {
   "cell_type": "markdown",
   "metadata": {},
   "source": [
    "## 14. Map reads back to OTU database ``` <<<VSEARCH>>> ```   \n",
    "  \n",
    "  \n",
    "```vsearch --usearch_global $PWD/reads_uparse.fa --db otus.fa --strand plus --id 0.97 --uc map.uc```  \n",
    "  \n",
    "  "
   ]
  },
  {
   "cell_type": "code",
   "execution_count": null,
   "metadata": {},
   "outputs": [],
   "source": [
    "!vsearch \\\n",
    "        --usearch_global ./sorted.fasta \\\n",
    "        --db ./otus.fasta \\\n",
    "        --strand plus \\\n",
    "        --id 0.97 \\\n",
    "        --uc ./map_97.uc"
   ]
  },
  {
   "cell_type": "code",
   "execution_count": null,
   "metadata": {
    "scrolled": true
   },
   "outputs": [],
   "source": [
    "!vsearch \\\n",
    "        --usearch_global ./sorted.fasta \\\n",
    "        --db ./otus99.fasta \\\n",
    "        --strand plus \\\n",
    "        --id 0.99 \\\n",
    "        --uc ./map_99.uc"
   ]
  },
  {
   "cell_type": "markdown",
   "metadata": {},
   "source": [
    "## 15. Assign taxonomy to OTUS using uclust method on QIIME (use the file “otus.fa” from UPARSE as input file)\n",
    "  \n",
    "```assign_taxonomy.py -i $PWD/otus.fa -o output```  \n",
    "  "
   ]
  },
  {
   "cell_type": "code",
   "execution_count": null,
   "metadata": {},
   "outputs": [],
   "source": [
    "!assign_taxonomy.py -i ./otus.fasta -o ./output"
   ]
  },
  {
   "cell_type": "code",
   "execution_count": null,
   "metadata": {},
   "outputs": [],
   "source": [
    "!assign_taxonomy.py -i ./otus99.fasta -o ./output99"
   ]
  },
  {
   "cell_type": "markdown",
   "metadata": {},
   "source": [
    "  \n",
    "## 16. Align sequences on QIIME, using greengenes reference sequences (use the file “otus.fa” from UPARSE as input file)  \n",
    "\n",
    "```align_seqs.py -i $PWD/otus.fa -o rep_set_align```  \n",
    "\n",
    "  "
   ]
  },
  {
   "cell_type": "code",
   "execution_count": null,
   "metadata": {},
   "outputs": [],
   "source": [
    "!align_seqs.py -i ./otus.fasta -o ./rep_set_align"
   ]
  },
  {
   "cell_type": "code",
   "execution_count": null,
   "metadata": {},
   "outputs": [],
   "source": [
    "!align_seqs.py -i ./otus99.fasta -o ./rep_set_align99"
   ]
  },
  {
   "cell_type": "markdown",
   "metadata": {},
   "source": [
    "## 17. Filter alignments on QIIME\n",
    "  \n",
    "```filter_alignment.py -i $PWD/otus_aligned.fasta -o filtered_alignment``` "
   ]
  },
  {
   "cell_type": "code",
   "execution_count": null,
   "metadata": {},
   "outputs": [],
   "source": [
    "!filter_alignment.py -i ./rep_set_align/otus_aligned.fasta -o ./filtered_alignment"
   ]
  },
  {
   "cell_type": "code",
   "execution_count": null,
   "metadata": {},
   "outputs": [],
   "source": [
    "!filter_alignment.py -i ./rep_set_align99/otus99_aligned.fasta -o ./filtered_alignment99"
   ]
  },
  {
   "cell_type": "markdown",
   "metadata": {},
   "source": [
    "## 18. Make the reference tree on QIIME\n",
    "  \n",
    "```make_phylogeny.py -i $PWD/otus_aligned_pfiltered.fasta -o rep_set.tre```"
   ]
  },
  {
   "cell_type": "code",
   "execution_count": null,
   "metadata": {},
   "outputs": [],
   "source": [
    "!make_phylogeny.py -i ./filtered_alignment/otus_aligned_pfiltered.fasta -o ./rep_set.tre"
   ]
  },
  {
   "cell_type": "code",
   "execution_count": null,
   "metadata": {},
   "outputs": [],
   "source": [
    "!make_phylogeny.py -i ./filtered_alignment99/otus99_aligned_pfiltered.fasta -o ./rep_set99.tre"
   ]
  },
  {
   "cell_type": "markdown",
   "metadata": {},
   "source": [
    "## 19. Convert UC to otu-table.txt ```<<< BMP SCRIPT>>>```  \n",
    "  \n",
    "```bmp-map2qiime.py map.uc > otu_table.txt```"
   ]
  },
  {
   "cell_type": "code",
   "execution_count": null,
   "metadata": {},
   "outputs": [],
   "source": [
    "!python2 ./bin/bmp-map2qiime.py map_97.uc > otu_table_97.txt"
   ]
  },
  {
   "cell_type": "code",
   "execution_count": null,
   "metadata": {},
   "outputs": [],
   "source": [
    "!python2 ./bin/bmp-map2qiime.py map_99.uc > otu_table_99.txt"
   ]
  },
  {
   "cell_type": "markdown",
   "metadata": {},
   "source": [
    "## 20. Convert otu_table.txt to otu-table.biom ```<<< QIIME SCRIPT>>>```  \n",
    "  \n",
    "```make_otu_table.py -i otu_table.txt -t otus_tax_assignments.txt -o otu_table.biom```  "
   ]
  },
  {
   "cell_type": "code",
   "execution_count": null,
   "metadata": {},
   "outputs": [],
   "source": [
    "!make_otu_table.py -i ./otu_table_97.txt -t ./output/otus_tax_assignments.txt -o ./otu_table.biom"
   ]
  },
  {
   "cell_type": "code",
   "execution_count": null,
   "metadata": {
    "scrolled": true
   },
   "outputs": [],
   "source": [
    "!make_otu_table.py -i ./otu_table_99.txt -t ./output99/otus99_tax_assignments.txt -o ./otu_table99.biom"
   ]
  },
  {
   "cell_type": "markdown",
   "metadata": {},
   "source": [
    "## 21. Check OTU Table  on QIIME.\n",
    "  \n",
    "```biom summarize-table -i $PWD/otu_table.biom -o results_biom_table```  "
   ]
  },
  {
   "cell_type": "code",
   "execution_count": null,
   "metadata": {},
   "outputs": [],
   "source": [
    "!biom summarize-table -i ./otu_table.biom -o ./results_biom_table"
   ]
  },
  {
   "cell_type": "code",
   "execution_count": null,
   "metadata": {},
   "outputs": [],
   "source": [
    "!biom summarize-table -i ./otu_table99.biom -o ./results_biom_table99"
   ]
  },
  {
   "cell_type": "markdown",
   "metadata": {},
   "source": [
    "The summary file contains information about the number of sequences per sample, which will help us to make decisions about rarefaction (subsampling). When we inspect the file, we see that sample F3D142.S208 has 2212 reads, the minimum observed. This is what we will use as a subsampling depth. Also, a lot of the info in this file is typically reported in methods sections of manuscripts."
   ]
  },
  {
   "cell_type": "markdown",
   "metadata": {},
   "source": [
    "## Set UP ```-e``` parameter:"
   ]
  },
  {
   "cell_type": "code",
   "execution_count": null,
   "metadata": {
    "scrolled": true
   },
   "outputs": [],
   "source": [
    "!grep Min: ./results_biom_table && head ./results_biom_table"
   ]
  },
  {
   "cell_type": "code",
   "execution_count": null,
   "metadata": {
    "scrolled": false
   },
   "outputs": [],
   "source": [
    "!grep Min: ./results_biom_table99 && head ./results_biom_table99"
   ]
  },
  {
   "cell_type": "markdown",
   "metadata": {},
   "source": [
    "## 22. Run diversity analyses on QIIME (or any other analysis of your choice).  \n",
    "  \n",
    "The parameter **```“-e”```** is the sequencing depth to use for even sub-sampling and maximum rarefaction depth. You should review the output of the ```biom summarize-table``` (step 21) command to decide on this value.  \n",
    "  \n",
    "```core_diversity_analyses.py -i $PWD/otu_table.biom -m $PWD/mapping_file.txt -t $PWD/rep_set.tre -e xxxx -o $PWD/core_output```  \n",
    "   \n",
    "\n",
    "```core_diversity_analyses.py -i otu_table.biom -m otu_table.txt -t rep_set.tre -e 9356 -o ./core_output```  \n",
    "-i - input file otu_table.biom from 20. ```make_otu_table.py```  \n",
    "-m - mapping file  \n",
    "-t - tree file rep_set.tre z pkt 18. ```make_phylogeny.py```  \n",
    "-e - min Count/Sample Summary from ```results_biom_table``` file  \n",
    "-o - output folder localisation    "
   ]
  },
  {
   "cell_type": "code",
   "execution_count": null,
   "metadata": {},
   "outputs": [],
   "source": [
    "!validate_mapping_file.py -m ./bin/map.txt -o validate_map -p -b -j run_prefix"
   ]
  },
  {
   "cell_type": "code",
   "execution_count": null,
   "metadata": {},
   "outputs": [],
   "source": [
    "!core_diversity_analyses.py -i ./otu_table.biom -m ./bin/map.txt -t ./rep_set.tre -e 30563 -o ./core_output_97"
   ]
  },
  {
   "cell_type": "code",
   "execution_count": null,
   "metadata": {},
   "outputs": [],
   "source": [
    "!core_diversity_analyses.py -i ./otu_table99.biom -m ./bin/map.txt -t ./rep_set99.tre -e 30533 -o ./core_output_99"
   ]
  },
  {
   "cell_type": "code",
   "execution_count": null,
   "metadata": {},
   "outputs": [],
   "source": [
    "!biom add-metadata -i ./otu_table.biom -o otu_table_metadata.biom -m map.txt"
   ]
  },
  {
   "cell_type": "code",
   "execution_count": null,
   "metadata": {},
   "outputs": [],
   "source": [
    "!biom add-metadata -i ./otu_table99.biom -o otu_table_metadata99.biom -m map.txt"
   ]
  },
  {
   "cell_type": "code",
   "execution_count": null,
   "metadata": {},
   "outputs": [],
   "source": [
    "!biom convert -i otu_table_metadata.biom -o otu_table_json.biom --table-type=\"OTU table\" --to-json"
   ]
  },
  {
   "cell_type": "code",
   "execution_count": null,
   "metadata": {},
   "outputs": [],
   "source": [
    "!biom convert -i otu_table_metadata99.biom -o otu_table_json99.biom --table-type=\"OTU table\" --to-json"
   ]
  }
 ],
 "metadata": {
  "kernelspec": {
   "display_name": "Python 2",
   "language": "python",
   "name": "python2"
  },
  "language_info": {
   "codemirror_mode": {
    "name": "ipython",
    "version": 2
   },
   "file_extension": ".py",
   "mimetype": "text/x-python",
   "name": "python",
   "nbconvert_exporter": "python",
   "pygments_lexer": "ipython2",
   "version": "2.7.13"
  }
 },
 "nbformat": 4,
 "nbformat_minor": 2
}
